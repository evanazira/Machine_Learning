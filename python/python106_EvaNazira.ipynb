{
  "nbformat": 4,
  "nbformat_minor": 0,
  "metadata": {
    "colab": {
      "provenance": []
    },
    "kernelspec": {
      "name": "python3",
      "display_name": "Python 3"
    },
    "language_info": {
      "name": "python"
    }
  },
  "cells": [
    {
      "cell_type": "markdown",
      "source": [
        "**Problem 1**\n",
        "\n",
        "Write a python function that takes a number as parameter and prints the multiplication table of that number"
      ],
      "metadata": {
        "id": "A0Bwrme6fTrE"
      }
    },
    {
      "cell_type": "code",
      "execution_count": null,
      "metadata": {
        "id": "EWkDXgTp_3vD",
        "colab": {
          "base_uri": "https://localhost:8080/"
        },
        "outputId": "f97ac77a-4e0c-439c-f3bd-7371f8733746"
      },
      "outputs": [
        {
          "output_type": "stream",
          "name": "stdout",
          "text": [
            "Enter multiplication number table: 5\n",
            "1 x 5 =  5\n",
            "2 x 5 =  10\n",
            "3 x 5 =  15\n",
            "4 x 5 =  20\n",
            "5 x 5 =  25\n",
            "6 x 5 =  30\n",
            "7 x 5 =  35\n",
            "8 x 5 =  40\n",
            "9 x 5 =  45\n",
            "10 x 5 =  50\n",
            "11 x 5 =  55\n",
            "12 x 5 =  60\n"
          ]
        }
      ],
      "source": [
        "def multiplicationTable(num):\n",
        "  multiplier = num\n",
        "  for i in range(1,13):\n",
        "    table = i * multiplier\n",
        "    print(f\"{i} x {multiplier} = \",table)\n",
        "\n",
        "\n",
        "integer = int(input(\"Enter multiplication number table: \"))\n",
        "multiplicationTable(integer)"
      ]
    },
    {
      "cell_type": "markdown",
      "source": [
        "**Problem 2**\n",
        "\n",
        "Write a simple python function that returns twin primes less than 1000. If two consecutive odd numbers are both prime then they are known as twin primes.\n",
        "\n",
        "Pairs of primes that differ by 2. For example, 3 and 5, 5 and 7, 11 and 13, and 17 and 19 are twin primes."
      ],
      "metadata": {
        "id": "hHsndVQCfZNT"
      }
    },
    {
      "cell_type": "code",
      "source": [
        "def is_Prime(max_num):\n",
        "    prime=[]\n",
        "    for num in range(2,max_num + 1):\n",
        "        isPrime = True\n",
        "        divisor = range(2, int(num**0.5) + 1)  #testlist for divisor\n",
        "        for divisors in divisor: #this repeat for the number in range (2,1000) to be divide by the numbers in range (2,1000)\n",
        "            if (num % divisors==0):\n",
        "                isPrime = False\n",
        "                break\n",
        "\n",
        "        if isPrime:\n",
        "            prime.append(num)\n",
        "\n",
        "    return prime\n",
        "\n",
        "def twin_primes(prime_list):\n",
        "    twin_primes = []\n",
        "\n",
        "    for item in range(len(prime_list) - 1):\n",
        "        if prime_list[item + 1] == (prime_list[item] + 2):\n",
        "            twin_primes.append((prime_list[item], prime_list[item + 1]))\n",
        "\n",
        "    return twin_primes\n",
        "\n",
        "max_num = 1000\n",
        "prime_max = is_Prime(max_num)\n",
        "print(\"All prime num up until 1000:\", prime_max)\n",
        "\n",
        "twin_prime = twin_primes(prime_max)\n",
        "print(\"The twin primes up to 1000:\",(twin_prime))"
      ],
      "metadata": {
        "id": "DT9PXLVEAGjQ",
        "colab": {
          "base_uri": "https://localhost:8080/"
        },
        "outputId": "2baf465a-38fe-4788-b29a-ce6b7bd6fe27"
      },
      "execution_count": null,
      "outputs": [
        {
          "output_type": "stream",
          "name": "stdout",
          "text": [
            "All prime num up until 1000: [2, 3, 5, 7, 11, 13, 17, 19, 23, 29, 31, 37, 41, 43, 47, 53, 59, 61, 67, 71, 73, 79, 83, 89, 97, 101, 103, 107, 109, 113, 127, 131, 137, 139, 149, 151, 157, 163, 167, 173, 179, 181, 191, 193, 197, 199, 211, 223, 227, 229, 233, 239, 241, 251, 257, 263, 269, 271, 277, 281, 283, 293, 307, 311, 313, 317, 331, 337, 347, 349, 353, 359, 367, 373, 379, 383, 389, 397, 401, 409, 419, 421, 431, 433, 439, 443, 449, 457, 461, 463, 467, 479, 487, 491, 499, 503, 509, 521, 523, 541, 547, 557, 563, 569, 571, 577, 587, 593, 599, 601, 607, 613, 617, 619, 631, 641, 643, 647, 653, 659, 661, 673, 677, 683, 691, 701, 709, 719, 727, 733, 739, 743, 751, 757, 761, 769, 773, 787, 797, 809, 811, 821, 823, 827, 829, 839, 853, 857, 859, 863, 877, 881, 883, 887, 907, 911, 919, 929, 937, 941, 947, 953, 967, 971, 977, 983, 991, 997]\n",
            "The twin primes up to 1000: [(3, 5), (5, 7), (11, 13), (17, 19), (29, 31), (41, 43), (59, 61), (71, 73), (101, 103), (107, 109), (137, 139), (149, 151), (179, 181), (191, 193), (197, 199), (227, 229), (239, 241), (269, 271), (281, 283), (311, 313), (347, 349), (419, 421), (431, 433), (461, 463), (521, 523), (569, 571), (599, 601), (617, 619), (641, 643), (659, 661), (809, 811), (821, 823), (827, 829), (857, 859), (881, 883)]\n"
          ]
        }
      ]
    },
    {
      "cell_type": "markdown",
      "source": [
        "**Problem 3**\n",
        "\n",
        "Write a simple python function that takes a number as parameter and returns  the prime factors of that number. Prime Factorization is finding which prime numbers multiply together to make the original number.\n",
        "\n",
        "Example: prime factors of 56 - 2, 2, 2, 7"
      ],
      "metadata": {
        "id": "IuSDs-t6hN2I"
      }
    },
    {
      "cell_type": "code",
      "source": [
        "def find_prime_factors(givennumber):\n",
        "  prime=[]\n",
        "  #to find the prime numbers in the range of the givennumber\n",
        "  for num in range(2,givennumber + 1):\n",
        "      isPrime = True\n",
        "      divisor = range(2, int(num**0.5) + 1)  #testlist for divisor\n",
        "      for divisors in divisor: #this repeat for the number in range (2,50) to be divide by the numbers in range (2,50)\n",
        "          if (num % divisors==0):\n",
        "              isPrime = False\n",
        "              break\n",
        "\n",
        "      if isPrime:\n",
        "          prime.append(num)\n",
        "\n",
        "    #find the prime factors using the prime number list\n",
        "  factor = []\n",
        "  for prime_num in prime:\n",
        "    while givennumber % prime_num == 0:\n",
        "      factor.append(prime_num)\n",
        "      givennumber //= prime_num\n",
        "\n",
        "  return factor\n",
        "\n",
        "original_number = int(input(\"Enter a number to find its prime factor: \"))\n",
        "prime_factors = find_prime_factors(original_number)\n",
        "print(f\"The prime factors of {original_number} are \",prime_factors)"
      ],
      "metadata": {
        "id": "gm96Yr9-_6VN",
        "colab": {
          "base_uri": "https://localhost:8080/"
        },
        "outputId": "b7b47fa9-6a60-469c-8db8-0fab63d95ead"
      },
      "execution_count": null,
      "outputs": [
        {
          "output_type": "stream",
          "name": "stdout",
          "text": [
            "Enter a number to find its prime factor: 63\n",
            "The prime factors of 63 are  [3, 3, 7]\n"
          ]
        }
      ]
    },
    {
      "cell_type": "markdown",
      "source": [
        "**Problem 4**\n",
        "\n",
        "Write a function that inputs a number and returns the product of digits of that number."
      ],
      "metadata": {
        "id": "TjZG6aCDiaR8"
      }
    },
    {
      "cell_type": "code",
      "source": [
        "def product_digits(num):\n",
        "  product = 1\n",
        "\n",
        "  for i in num:\n",
        "    product *= int(i)\n",
        "  return product\n",
        "\n",
        "num = input(\"Enter several digits of a number: \")\n",
        "print(f\"The product of each digits in the input number: \", product_digits(num))"
      ],
      "metadata": {
        "id": "mvt7rb44AD1O",
        "colab": {
          "base_uri": "https://localhost:8080/"
        },
        "outputId": "9625c404-e9f2-4b73-ab2d-0c3680b3f6d4"
      },
      "execution_count": null,
      "outputs": [
        {
          "output_type": "stream",
          "name": "stdout",
          "text": [
            "Enter several digits of a number: 369\n",
            "The product of each digits in the input number:  162\n"
          ]
        }
      ]
    },
    {
      "cell_type": "markdown",
      "source": [
        "**Problem 5**\n",
        "\n",
        "Write a function that takes a number as parameter. The function finds the proper divisors of that number and then finds the sum of proper divisors. Proper divisors of a number are those numbers by which the number is divisible, except the number itself.\n",
        "\n",
        "For example proper divisors of 36 are 1, 2, 3, 4, 6, 9, 18"
      ],
      "metadata": {
        "id": "dP39qvGMje7L"
      }
    },
    {
      "cell_type": "code",
      "source": [
        "def proper_divisor(num):\n",
        "  divisor = []\n",
        "  for i in range (1, num//2 + 1):\n",
        "    if num % i == 0:\n",
        "     divisor.append(i)\n",
        "\n",
        "  return divisor\n",
        "\n",
        "num = int(input(\"Enter a number: \"))\n",
        "print(f\"The proper divisor of {num}:\", proper_divisor(num))"
      ],
      "metadata": {
        "id": "S29lD5Majy2V",
        "colab": {
          "base_uri": "https://localhost:8080/"
        },
        "outputId": "5ec2b959-76f5-4ccb-c7ea-a4a246dda2a1"
      },
      "execution_count": null,
      "outputs": [
        {
          "output_type": "stream",
          "name": "stdout",
          "text": [
            "Enter a number: 32\n",
            "The proper divisor of 32: [1, 2, 4, 8, 16]\n"
          ]
        }
      ]
    },
    {
      "cell_type": "markdown",
      "source": [
        "**Problem 6**\n",
        "\n",
        "A number is called perfect if the sum of proper divisors of that number is equal to the number. For example 28 is perfect number, since 1+2+4+7+14=28. Write a program to print all the perfect numbers in a given range"
      ],
      "metadata": {
        "id": "mcVzyq8lj1Sr"
      }
    },
    {
      "cell_type": "code",
      "source": [
        "def prime_number(num):\n",
        "  if num==2:\n",
        "    return True\n",
        "\n",
        "  for i in range(3, int(num**0.5)+1):\n",
        "    if num% i == 0:\n",
        "      return False\n",
        "\n",
        "  return True\n",
        "\n",
        "def perfect_number(num_range):\n",
        "  perfect = []\n",
        "  for n in num:\n",
        "    #check if it is prime number\n",
        "    if prime_number(n):\n",
        "      mersenne_prime = (2**n) - 1\n",
        "      if prime_number(mersenne_prime):\n",
        "        perfect_num = (2**(n-1)) * mersenne_prime\n",
        "        if perfect_num not in perfect:\n",
        "          perfect.append(perfect_num)\n",
        "\n",
        "\n",
        "  return perfect\n",
        "\n",
        "\n",
        "num_range = range(2,20) #testlist for primenum\n",
        "print(perfect_number(num_range))"
      ],
      "metadata": {
        "colab": {
          "base_uri": "https://localhost:8080/"
        },
        "id": "8nkveYGVMklW",
        "outputId": "528a5b15-e1ad-4775-804b-224bcb523ec9"
      },
      "execution_count": null,
      "outputs": [
        {
          "output_type": "stream",
          "name": "stdout",
          "text": [
            "[6, 28, 496, 8128, 33550336, 8589869056, 137438691328]\n"
          ]
        }
      ]
    },
    {
      "cell_type": "markdown",
      "source": [
        "**Problem 7**\n",
        "\n",
        "Write a python function that takes 2 parameters lower and upper (range). Let the function returns pairs of amicable numbers in that range.\n",
        "\n",
        "Two different numbers are called amicable numbers if the sum of the proper divisors of each is equal to the other number. For example 220 and 284 are amicable numbers.\n",
        "\n",
        "For example if we call that function: amicableNumbers(1, 1000)\n",
        "\n",
        "The function must return: **[220, 284]**\n",
        "\n",
        "\n",
        "*Why they are amicable numbers ?*\n",
        "\n",
        "Sum of proper divisors of **220** = 1+2+4+5+10+11+20+22+44+55+110 = **284**\n",
        "\n",
        "Sum of proper divisors of **284** = 1+2+4+71+142 = **220**\n",
        "\n",
        "\n",
        "\n"
      ],
      "metadata": {
        "id": "Wv5N6tzvkMlN"
      }
    },
    {
      "cell_type": "code",
      "source": [
        "def sum_of_divisor(num):\n",
        "  return  sum(i for i in range (1, num) if num % i ==0)\n",
        "def is_amicable(lower, upper):\n",
        "  amicable=[]\n",
        "  for a in range(lower, upper+1):\n",
        "    b = sum_of_divisor(a)\n",
        "    if b != a and b >= lower and b<= upper and sum_of_divisor(b) == a:\n",
        "      if a < b and  (a,b) not in amicable:\n",
        "        amicable.append((a,b))\n",
        "  return amicable\n",
        "\n",
        "print(is_amicable(1,1000))"
      ],
      "metadata": {
        "id": "pfDuxZAcj--R",
        "colab": {
          "base_uri": "https://localhost:8080/"
        },
        "outputId": "c8d0aecc-6257-4891-a59f-0164f11c79a6"
      },
      "execution_count": null,
      "outputs": [
        {
          "output_type": "stream",
          "name": "stdout",
          "text": [
            "[(220, 284)]\n"
          ]
        }
      ]
    },
    {
      "cell_type": "markdown",
      "source": [
        "**Problem 8**\n",
        "\n",
        "Write a python function that takes variable length parameters and returns maximum and minimum number in the parameter numbers.\n",
        "\n",
        "For example if we call the function: maximumMinimum(10, 20, 30, 40, 50)\n",
        "\n",
        "The function must return: **[10, 50]**"
      ],
      "metadata": {
        "id": "C0KGpzm73ZjE"
      }
    },
    {
      "cell_type": "code",
      "source": [
        "def finding_max_and_min(*numbers):\n",
        "  if not numbers:\n",
        "    return None, None\n",
        "\n",
        "  max_num = numbers[0]\n",
        "  min_num = numbers[0]\n",
        "\n",
        "  for num in numbers:\n",
        "    if num > max_num:\n",
        "      max_num = num\n",
        "\n",
        "    if num < min_num:\n",
        "      min_num = num\n",
        "\n",
        "  return [min_num, max_num]\n",
        "\n",
        "\n",
        "maxmin = finding_max_and_min(10,20,30,40,50)\n",
        "print(f\"Min and Max numbers in the list:\",maxmin)"
      ],
      "metadata": {
        "id": "t-24AVom39FU",
        "colab": {
          "base_uri": "https://localhost:8080/"
        },
        "outputId": "65a54142-a33a-4cd3-bf8b-24a4148b334e"
      },
      "execution_count": null,
      "outputs": [
        {
          "output_type": "stream",
          "name": "stdout",
          "text": [
            "Min and Max numbers in the list: [10, 50]\n"
          ]
        }
      ]
    },
    {
      "cell_type": "markdown",
      "source": [
        "**Problem 9**\n",
        "\n",
        "Write a simple Python function that takes a number(n) as a parameter. Then the function prints out the first n rows of Pascal's triangle. Note : Pascal's triangle is an arithmetic and geometric figure first imagined by Blaise Pascal.\n",
        "\n",
        "\n",
        "\n",
        "![pascaltriangle.png](data:image/png;base64,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)"
      ],
      "metadata": {
        "id": "Fz9twS264CYO"
      }
    },
    {
      "cell_type": "code",
      "source": [
        "def pascaltriangle(rows):\n",
        "  for i in range(0,rows):\n",
        "    print(\"  \"* (rows - i), end = \" \")\n",
        "\n",
        "    coef = 1\n",
        "    for j in range(0, i + 1):\n",
        "      print(coef, end = \"  \")\n",
        "      coef = coef * (i-j)\n",
        "      coef = coef //(j+1)\n",
        "    print()\n",
        "n = int(input(\"Rows: \"))\n",
        "pascaltriangle(n)"
      ],
      "metadata": {
        "id": "-wbHovdMom2c",
        "colab": {
          "base_uri": "https://localhost:8080/"
        },
        "outputId": "9a5513d2-53eb-466e-f762-f7ba08c58a26"
      },
      "execution_count": null,
      "outputs": [
        {
          "output_type": "stream",
          "name": "stdout",
          "text": [
            "Rows: 8\n",
            "                 1  \n",
            "               1  1  \n",
            "             1  2  1  \n",
            "           1  3  3  1  \n",
            "         1  4  6  4  1  \n",
            "       1  5  10  10  5  1  \n",
            "     1  6  15  20  15  6  1  \n",
            "   1  7  21  35  35  21  7  1  \n"
          ]
        }
      ]
    },
    {
      "cell_type": "markdown",
      "source": [
        "**Problem 10**\n",
        "\n",
        "Write a simple python function that accepts a hyphen-separated sequence of words as parameter and returns the words in a hyphen-separated sequence after sorting them alphabetically.\n",
        "\n",
        "Sample Items : green-red-yellow-black-white\n",
        "\n",
        "Expected Result : black-green-red-white-yellow"
      ],
      "metadata": {
        "id": "_9cMELSZopF2"
      }
    },
    {
      "cell_type": "code",
      "source": [
        "def sort_words(sequence):\n",
        "  words = sequence.split(\"-\")\n",
        "\n",
        "  for i in range(len(words)):\n",
        "    for j in range(0, len(words)-i - 1):\n",
        "      if words[j]> words[j+1]:\n",
        "        words[j], words[j+1] = words[j+1], words[j]\n",
        "\n",
        "  sorted_words =\"-\" .join(words)\n",
        "\n",
        "  return sorted_words\n",
        "\n",
        "\n",
        "sentence = input(\"Words: \")\n",
        "print(sort_words(sentence))"
      ],
      "metadata": {
        "id": "8YTu76gepE3D",
        "colab": {
          "base_uri": "https://localhost:8080/"
        },
        "outputId": "f4a3f592-1881-4407-a37e-e2ce3dc56d0b"
      },
      "execution_count": null,
      "outputs": [
        {
          "output_type": "stream",
          "name": "stdout",
          "text": [
            "Words: green-red-yellow-black-white\n",
            "black-green-red-white-yellow\n"
          ]
        }
      ]
    }
  ]
}